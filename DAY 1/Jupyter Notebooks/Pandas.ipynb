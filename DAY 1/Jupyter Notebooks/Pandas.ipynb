{
 "cells": [
  {
   "cell_type": "markdown",
   "id": "ece27f82-0d08-494a-bd52-e8c32547b9e1",
   "metadata": {},
   "source": [
    " ### **What is `pip`?**  \n",
    "\n",
    "`pip` (Package Installer for Python) is the default package manager for Python. It is used to install, upgrade, and manage third-party Python libraries from the **Python Package Index (PyPI)**.  \n",
    "\n",
    "---\n",
    "\n",
    "### **Key Features of `pip`**  \n",
    "- Installs and manages Python libraries.  \n",
    "- Supports package version control.  \n",
    "- Allows installing from PyPI, local files, or repositories.  \n",
    "- Can list installed packages and check for updates.  \n",
    "\n",
    "---\n",
    "\n",
    "### **Common `pip` Commands**  \n",
    "\n",
    "| Command | Description |\n",
    "|---------|-------------|\n",
    "| `pip install package_name` | Installs a package |\n",
    "| `pip install package_name==1.2.3` | Installs a specific version |\n",
    "| `pip show package_name` | Displays package details |\n",
    "\n",
    "\n",
    " \n"
   ]
  },
  {
   "cell_type": "code",
   "execution_count": null,
   "id": "df377c4b-2ffc-46fc-99f6-7cd96e747ade",
   "metadata": {},
   "outputs": [],
   "source": [
    "#If pandas not installed put following command\n",
    "!pip install pandas\n"
   ]
  },
  {
   "cell_type": "markdown",
   "id": "ad72dfdf-f44f-474a-9bd7-b58bf57b32a1",
   "metadata": {},
   "source": [
    "## Setup"
   ]
  },
  {
   "cell_type": "markdown",
   "id": "e2e69ea3-2fbc-4dec-ba02-1064e7051ab8",
   "metadata": {},
   "source": [
    "First we will import pandas in order to use it "
   ]
  },
  {
   "cell_type": "code",
   "execution_count": 4,
   "id": "b07209a1-9be6-4065-9fae-1dc87cb48014",
   "metadata": {},
   "outputs": [],
   "source": [
    "import pandas as pd"
   ]
  },
  {
   "cell_type": "markdown",
   "id": "87b46f48-c8d6-4216-bf3d-35b3bf74c2aa",
   "metadata": {},
   "source": [
    " ## Creating a Series "
   ]
  },
  {
   "cell_type": "markdown",
   "id": "5b6abc01-8d00-48cc-91e2-19ea3796bcbc",
   "metadata": {},
   "source": [
    "# `Series` objects\n",
    "The `pandas` library contains these useful data structures:\n",
    "* `Series` objects, that we will discuss now. A `Series` object is 1D array, similar to a column in a spreadsheet (with a column name and row labels)."
   ]
  },
  {
   "cell_type": "code",
   "execution_count": null,
   "id": "43396ff8-fa8d-4bba-87ae-d451f10e3951",
   "metadata": {},
   "outputs": [],
   "source": [
    "#Creating Series (1-Dimentional)\n",
    "cars=pd.Series([\"BMW\" , \"Toyoto\" , \"Honda\"])\n",
    "\n",
    "#Printing Series\n",
    "cars"
   ]
  },
  {
   "cell_type": "markdown",
   "id": "eba5450d-f0e1-475c-b196-3b09465333c7",
   "metadata": {},
   "source": [
    "## Creating a DataFrame"
   ]
  },
  {
   "cell_type": "markdown",
   "id": "b743f382-a1d1-4ec5-84ba-075a46da7feb",
   "metadata": {},
   "source": [
    "* DataFrame objects. This is a 2D table, similar to a spreadsheet (with column names and row labels).\n",
    "* Panel objects. You can see a Panel as a dictionary of DataFrames. \n",
    "These are less used, so we will not discuss them here"
   ]
  },
  {
   "cell_type": "code",
   "execution_count": null,
   "id": "ff0d9df4-69b9-4fbe-a41f-bfcac90ff14e",
   "metadata": {},
   "outputs": [],
   "source": [
    "colours = pd.Series([\"Red\" , \"Pink\" , \"Blue\"])\n",
    "\n",
    "#DataFrame = 2-Dimensional\n",
    "#DataFrames use dictionary in python\n",
    "\n",
    "car_data=pd.DataFrame({\"Car make\" : cars , \"Colours\" : colours})\n",
    "\n",
    "print(car_data)"
   ]
  },
  {
   "cell_type": "code",
   "execution_count": null,
   "id": "08b6eba6-6cfc-449d-b33c-3516604ebdbd",
   "metadata": {},
   "outputs": [],
   "source": [
    "# Create a dictionary with data\n",
    "data = {\n",
    "    \"Name\": [\"Alice\", \"Bob\", \"Charlie\", \"David\"],\n",
    "    \"Age\": [20, 21, 19, 22],\n",
    "    \"Marks\": [85, 90, 78, 88]\n",
    "}\n",
    "\n",
    "# Convert dictionary to DataFrame\n",
    "df = pd.DataFrame(data)\n",
    "\n",
    "# Display the DataFrame\n",
    "print(df)\n"
   ]
  },
  {
   "cell_type": "markdown",
   "id": "7c93dd2f-1738-401f-81ac-c796b40371a0",
   "metadata": {},
   "source": [
    "## Importing data in Pandas "
   ]
  },
  {
   "cell_type": "markdown",
   "id": "90ffa12d-be96-4e2c-a4f8-6cde5b32a269",
   "metadata": {},
   "source": [
    "To work with datasets in Pandas, we first need to import the library and\n",
    "then load the data from different sources like CSV, Excel, JSON, or SQL.\n",
    "\n",
    "* We can use the read_csv() function to load data from a CSV file.\n",
    "   - name = pd.read_csv(\"Path\") \n",
    "* We can use the read_excel() function to load data from a excel file.\n",
    "* We can use the read_json() function to load data from a json file.\n",
    "* We can use the read_sql() function to load data from a SQL file:"
   ]
  },
  {
   "cell_type": "code",
   "execution_count": 8,
   "id": "9cb9a884-84e7-4a28-9769-dfb31c9268bf",
   "metadata": {},
   "outputs": [],
   "source": [
    "#Importing Dataset\n",
    "# Syntax - name = pd.read_csv(\"Path\")\n",
    "#forward slash should be used in path instead of backward slash\n",
    "\n",
    "df = pd.read_csv(\"D:/ML SIG/car-sales-extended.csv\")"
   ]
  },
  {
   "cell_type": "code",
   "execution_count": null,
   "id": "b451786b-4b9e-440b-88ac-810d73e14896",
   "metadata": {},
   "outputs": [],
   "source": [
    "df"
   ]
  },
  {
   "cell_type": "markdown",
   "id": "5dcfd3cf-979e-4816-a1c5-b5edcb86f5ca",
   "metadata": {},
   "source": [
    "## Exploring and Understanding data"
   ]
  },
  {
   "cell_type": "markdown",
   "id": "d31e912e-b75b-47aa-94f8-49f68871e924",
   "metadata": {},
   "source": [
    "* To see the first 5 rows of our dataset we can use .head() method\n",
    " - To see First n rows use .head(n) \n",
    "* To see the last 5 rows of our dataset we can use .tail() method\n",
    " - To see last n rows use .tail(n) "
   ]
  },
  {
   "cell_type": "code",
   "execution_count": null,
   "id": "ee2c1f6d-987b-4573-8e54-1c5f85118cc0",
   "metadata": {},
   "outputs": [],
   "source": [
    "#prints 5 rows by default\n",
    "df.head()"
   ]
  },
  {
   "cell_type": "code",
   "execution_count": null,
   "id": "2e4a6d0b-7e45-4c0e-91e8-3c47883508bb",
   "metadata": {},
   "outputs": [],
   "source": [
    "df.head(7) #to print fisrt 7 rows"
   ]
  },
  {
   "cell_type": "code",
   "execution_count": null,
   "id": "9f92bf75-2f28-4000-b89d-73c454bcd5ae",
   "metadata": {},
   "outputs": [],
   "source": [
    "#Prints last 5 rows\n",
    "df.tail()"
   ]
  },
  {
   "cell_type": "code",
   "execution_count": null,
   "id": "aca01e2f-3beb-4f8b-916e-0ab262d620d5",
   "metadata": {},
   "outputs": [],
   "source": [
    "#prints last n rows\n",
    "df.tail(7) "
   ]
  },
  {
   "cell_type": "markdown",
   "id": "d7f479a1-5566-430b-b045-5c42c0aaf2ad",
   "metadata": {},
   "source": [
    "## Exploring and Understanding Data"
   ]
  },
  {
   "cell_type": "markdown",
   "id": "779f89bf-98a5-460f-99bb-cc3bf7ee9284",
   "metadata": {},
   "source": [
    "## Checking Column names , dtypes , missing values & summary statistics\n",
    "* `View Column Names`:  Use df.columns to list all column names.\n",
    "* `Check Data Types`:  Use df.dtypes to identify numeric and categorical data.\n",
    "* `Detect Missing Values`:  Use df.isnull().sum() to count missing values in each column.\n",
    "* `Get Summary Statistics` :  df.describe() provides key metrics like mean, median, min, max, and standard deviation for numerical columns.\n"
   ]
  },
  {
   "cell_type": "code",
   "execution_count": null,
   "id": "edf0ac88-326e-49cb-a91d-92e81fb9a9e1",
   "metadata": {},
   "outputs": [],
   "source": [
    "#To see all column names of a dataframe\n",
    "df.columns"
   ]
  },
  {
   "cell_type": "code",
   "execution_count": null,
   "id": "c3e3dafc-e375-4d86-a3c1-45fd7080ed45",
   "metadata": {},
   "outputs": [],
   "source": [
    "#To check datatypes of each columns\n",
    "df.dtypes"
   ]
  },
  {
   "cell_type": "code",
   "execution_count": null,
   "id": "3c9bf19c-fa4c-4e72-a1e2-4212d457d930",
   "metadata": {},
   "outputs": [],
   "source": [
    "df.isnull().sum()"
   ]
  },
  {
   "cell_type": "code",
   "execution_count": null,
   "id": "6a490d2f-d9a9-4e35-aa84-c1e634676062",
   "metadata": {},
   "outputs": [],
   "source": [
    "# to get summary statistics of numerical data\n",
    "df.describe()"
   ]
  },
  {
   "cell_type": "markdown",
   "id": "070a1b13-f99d-407d-b5bc-9d7634354db0",
   "metadata": {},
   "source": [
    "## Indexing & Selecting Data"
   ]
  },
  {
   "cell_type": "markdown",
   "id": "a34b84e1-72c9-48a4-b680-3d56ab3b6d03",
   "metadata": {},
   "source": [
    "## How to select Columns ?\n",
    "* To select a single column use :\n",
    "       - df[“col_Name”] \n",
    "* To select multiple columns use :\n",
    "       - df[[“col1” , “col2”]]"
   ]
  },
  {
   "cell_type": "code",
   "execution_count": null,
   "id": "175fd1ca-67a0-4cde-803b-04efed7ab013",
   "metadata": {},
   "outputs": [],
   "source": [
    "# select a single column\n",
    "df[\"Doors\"]"
   ]
  },
  {
   "cell_type": "code",
   "execution_count": null,
   "id": "fc72d8aa-ee5a-4278-9961-6d3ca678ac6b",
   "metadata": {},
   "outputs": [],
   "source": [
    "df[[\"Doors\", \"Price\"]]"
   ]
  },
  {
   "cell_type": "markdown",
   "id": "2563fb2d-a7c9-4383-8828-5e68cc2b76ee",
   "metadata": {},
   "source": [
    "## Selecting rows "
   ]
  },
  {
   "cell_type": "markdown",
   "id": "5bb0262c-e5f5-45fd-bd7f-af559dc416c8",
   "metadata": {},
   "source": [
    "You can use slicing (start:end:step) directly on a DataFrame to extract specific rows.\n",
    "* start: Starting row index (inclusive)\n",
    "* end: Ending row index (exclusive)\n",
    "* step: (Optional) Step size"
   ]
  },
  {
   "cell_type": "code",
   "execution_count": null,
   "id": "c3714b6c-c637-48ed-ae4a-7c70cf07925a",
   "metadata": {},
   "outputs": [],
   "source": [
    "#selecting rows\n",
    "df[7:15]"
   ]
  },
  {
   "cell_type": "markdown",
   "id": "ad699861-73c6-4a99-afbf-22c0a01d1074",
   "metadata": {},
   "source": [
    "## Using loc and iloc"
   ]
  },
  {
   "cell_type": "markdown",
   "id": "0cbc2285-aa56-480a-9697-b759cfba7b43",
   "metadata": {},
   "source": [
    "### **Selecting Data in Pandas: `.loc[]` vs `.iloc[]`**  \n",
    "\n",
    "Pandas provides `.loc[]` and `.iloc[]` for selecting specific rows and columns from a DataFrame.  \n",
    "\n",
    "---\n",
    "\n",
    "### **1. `.loc[]` (Label-Based Selection)**  \n",
    "- Selects data using **row and column labels**.  \n",
    "- Supports selecting **single values, multiple values, slices, and conditions**.  \n",
    "- Slicing is **inclusive** (includes both start and end labels).  \n",
    "- Can be used with **boolean conditions** for filtering data.  \n",
    "\n",
    "---\n",
    "\n",
    "### **2. `.iloc[]` (Position-Based Selection)**  \n",
    "- Selects data using **integer index positions**.  \n",
    "- Supports selecting **single values, multiple values, and slices**.  \n",
    "- Slicing is **exclusive** (does not include the endpoint).  \n",
    "- Does not work with boolean conditions or column names.  \n",
    "\n",
    "---\n",
    "\n",
    "### **Key Differences Between `.loc[]` and `.iloc[]`**  \n",
    "\n",
    "| Feature | `.loc[]` (Label-Based) | `.iloc[]` (Index-Based) |\n",
    "|---------|----------------|----------------|\n",
    "| Selection Type | Uses row/column labels | Uses integer positions |\n",
    "| Slicing | Inclusive (includes endpoint) | Exclusive (excludes endpoint) |\n",
    "| Supports Boolean Filtering | Yes | No |\n",
    "| Works with Column Names | Yes | No |\n",
    "\n",
    "Understanding `.loc[]` and `.iloc[]` helps in efficient data selection, filtering, and manipulation in Pandas.  \n"
   ]
  },
  {
   "cell_type": "code",
   "execution_count": null,
   "id": "5d6ddb73-0415-43b5-949a-5c25fc10ce84",
   "metadata": {},
   "outputs": [],
   "source": [
    "animals = pd.Series ([\"cat\" , \"Dog\" , \"bird\" , \"Panda\" , \"snake\" ] , index = [0,3,9,8,3])\n",
    "animals"
   ]
  },
  {
   "cell_type": "markdown",
   "id": "5bfdb67e-5881-42ea-8874-edc53a510dbc",
   "metadata": {},
   "source": [
    "Selects the row where index = 10 (Nissan, White, 167421.0 KM)\n"
   ]
  },
  {
   "cell_type": "code",
   "execution_count": null,
   "id": "2abfb9c2-d3ea-471b-bcf0-1fea6cead29e",
   "metadata": {},
   "outputs": [],
   "source": [
    "df.head(20)"
   ]
  },
  {
   "cell_type": "code",
   "execution_count": null,
   "id": "fbdf851d-c19f-46e3-ae4b-0159f1bc972c",
   "metadata": {},
   "outputs": [],
   "source": [
    "df.loc[10]\n"
   ]
  },
  {
   "cell_type": "markdown",
   "id": "f55512ce-7181-4a4e-8398-32fbb65551b9",
   "metadata": {},
   "source": [
    "Selecting Multiple Rows and Specific Columns using .loc[]"
   ]
  },
  {
   "cell_type": "code",
   "execution_count": null,
   "id": "01430da1-abda-4b43-88ce-aef57a6b0fde",
   "metadata": {},
   "outputs": [],
   "source": [
    "# Selects 'Make', 'Colour', and 'Price' for index 7 (Honda) and 9 (Honda)\n",
    "df.loc[[7, 9], [\"Make\", \"Colour\", \"Price\"]]  "
   ]
  },
  {
   "cell_type": "markdown",
   "id": "ee5ec378-bf09-4583-b80f-b6a0b8566c44",
   "metadata": {},
   "source": [
    "### Selecting Data using .iloc[] (Index-Based)"
   ]
  },
  {
   "cell_type": "markdown",
   "id": "bbdda0bf-b411-4df7-9bf2-b202f9e02e68",
   "metadata": {},
   "source": [
    "Selecting a Range of Rows and Columns using .iloc[]"
   ]
  },
  {
   "cell_type": "code",
   "execution_count": null,
   "id": "65874982-9253-45c7-ab31-9ca9e38738c9",
   "metadata": {},
   "outputs": [],
   "source": [
    "animals\n"
   ]
  },
  {
   "cell_type": "code",
   "execution_count": null,
   "id": "7dab3e14-27e9-4cf6-a79f-3b850953af8a",
   "metadata": {},
   "outputs": [],
   "source": [
    "#iloc -> refers to the position of the object\n",
    "animals.iloc[3]"
   ]
  },
  {
   "cell_type": "code",
   "execution_count": null,
   "id": "da54f059-0a9c-4652-9dbe-fd7d9bb2e6b3",
   "metadata": {},
   "outputs": [],
   "source": [
    "#For this type of slicing we need to specify starting index , ending index and steps\n",
    "#It does not consider the last index\n",
    "animals.iloc[-1:-4:-1]"
   ]
  },
  {
   "cell_type": "code",
   "execution_count": null,
   "id": "4239ee30-a3ba-4480-98a1-53ec9fa8efb0",
   "metadata": {},
   "outputs": [],
   "source": [
    "df.iloc[2]  # Selects the 3rd row (index 9: Honda, Blue, 51029.0 KM)\n",
    "\n"
   ]
  },
  {
   "cell_type": "code",
   "execution_count": null,
   "id": "e416c2fc-0249-4430-9c27-af36bf161bed",
   "metadata": {},
   "outputs": [],
   "source": [
    "df.iloc[1:5, 1:4]  # Selects index 1 to 4 (exclusive) and columns 1 to 3 (Colour, Odometer, Doors)\n"
   ]
  },
  {
   "cell_type": "markdown",
   "id": "212c0ea7-da9c-4fb0-a364-36e8673ad6ff",
   "metadata": {},
   "source": [
    "## Data Cleaning & Preprocessing"
   ]
  },
  {
   "cell_type": "markdown",
   "id": "9b269ad3-70b9-41f7-a8b6-ac3d3c4024c5",
   "metadata": {},
   "source": [
    "### Handling Missing Values\n",
    "* Fill missing values fillna() \n",
    "* Drop missing values dropna()"
   ]
  },
  {
   "cell_type": "code",
   "execution_count": null,
   "id": "ffdb14e9-323e-4a1a-8053-e34863d9bc6f",
   "metadata": {},
   "outputs": [],
   "source": [
    "df[\"Odometer (KM)\"].fillna(df[\"Odometer (KM)\"].mean())"
   ]
  },
  {
   "cell_type": "code",
   "execution_count": null,
   "id": "4c2cc2f5-50a0-486a-8ee7-ffec24e8f547",
   "metadata": {},
   "outputs": [],
   "source": [
    "df.isnull().sum()"
   ]
  },
  {
   "cell_type": "markdown",
   "id": "97ddbd69-d3d2-4e0a-8555-a8cd690b1338",
   "metadata": {},
   "source": [
    "### **Handling Missing Values in Pandas: `fillna()` with `inplace=True` vs Assignment**  \n",
    "\n",
    "In Pandas, missing values (`NaN`) can be replaced using `.fillna()`. There are two ways to do this:  \n",
    "\n",
    "1. **Method 1: Using `inplace=True`** (Modifies DataFrame directly)  \n",
    "   ```python\n",
    "   df[\"Odometer (KM)\"].fillna(df[\"Odometer (KM)\"].mean(), inplace=True)\n",
    "2. **Method 2 : Using `assignment operator`**(It makes a copy of the column)\n",
    "    ```python\n",
    "    df[\"Odometer (KM)\"] =df[\"Odometer (KM)\"].fillna(df[\"Odometer (KM)\"].mean(), inplace=True)"
   ]
  },
  {
   "cell_type": "code",
   "execution_count": null,
   "id": "f309a1cd-2257-4a0c-ae72-14e93b053c6c",
   "metadata": {},
   "outputs": [],
   "source": [
    "df[\"Odometer (KM)\"].fillna(df[\"Odometer (KM)\"].mean(), inplace=True)"
   ]
  },
  {
   "cell_type": "code",
   "execution_count": null,
   "id": "d56ef34e-ee80-4d1f-999f-e741cb5fcf54",
   "metadata": {},
   "outputs": [],
   "source": [
    "df.isnull().sum()"
   ]
  },
  {
   "cell_type": "code",
   "execution_count": 149,
   "id": "bf9c785d-c9ee-4f0b-9bdb-7fe12fe35c5e",
   "metadata": {},
   "outputs": [],
   "source": [
    "#df.dropna(inplace=True)"
   ]
  },
  {
   "cell_type": "markdown",
   "id": "eb11d891-ccb1-456e-82e1-83d963f38852",
   "metadata": {},
   "source": [
    "### **Handling Duplicate Values in Pandas**  \n",
    "\n",
    "Duplicate values can cause data inconsistencies and affect analysis accuracy. Pandas provides methods to identify, remove, or manage duplicate entries in a DataFrame.  \n",
    "\n",
    "- **`df.drop_duplicates()`**: Removes duplicate rows while keeping the first occurrence.  \n",
    "- **`df.drop_duplicates(subset=[\"column_name\"])`**: Drops duplicates based on specific columns.  \n",
    "- **`inplace=True`**: Modifies the DataFrame without returning a new one."
   ]
  },
  {
   "attachments": {
    "3d649cf6-ed65-422a-a851-b582db27cb7f.png": {
     "image/png": "[encoded data removed]"
    }
   },
   "cell_type": "markdown",
   "id": "bf791bc2-a1cc-4d75-94cc-86d5ca608c9d",
   "metadata": {},
   "source": [
    "![duplicateFIN.png](attachment:3d649cf6-ed65-422a-a851-b582db27cb7f.png)"
   ]
  },
  {
   "cell_type": "code",
   "execution_count": null,
   "id": "9253ad95-81f1-4733-ab4f-108919c555f2",
   "metadata": {},
   "outputs": [],
   "source": [
    "df.duplicated().sum()"
   ]
  },
  {
   "cell_type": "code",
   "execution_count": null,
   "id": "1ca63995-3472-437a-8e6f-fde6ee8a81bd",
   "metadata": {},
   "outputs": [],
   "source": [
    "#df.drop_duplicates(inplace=True)"
   ]
  },
  {
   "cell_type": "code",
   "execution_count": null,
   "id": "aada651d-2db5-412a-8070-5b7541e2681c",
   "metadata": {},
   "outputs": [],
   "source": [
    "df.dtypes[\"Price\"]"
   ]
  },
  {
   "cell_type": "code",
   "execution_count": null,
   "id": "542b82e9-8751-464a-bf8e-26a10a1ffdfe",
   "metadata": {},
   "outputs": [],
   "source": [
    "df[\"Price\"] = df[\"Price\"].astype(str)\n",
    "df.dtypes[\"Price\"]  "
   ]
  },
  {
   "cell_type": "markdown",
   "id": "6a89ed14-9312-4fe9-b123-3648279119e4",
   "metadata": {},
   "source": [
    "### **Different Data Types (`dtypes`) in a Pandas Dataset**  \n",
    "\n",
    "A Pandas DataFrame can contain multiple data types. The `.dtypes` attribute shows the type of each column.  \n",
    "\n",
    "#### **Common Data Types in Pandas**  \n",
    "\n",
    "| Data Type | Description | Example |\n",
    "|-----------|------------|---------|\n",
    "| `int64`   | Integer values | `1, 100, -50` |\n",
    "| `float64` | Decimal (floating-point) values | `1.5, 100.25, -0.99` |\n",
    "| `object`  | Text or mixed data | `\"Apple\"`, `\"Hello123\"` |\n",
    "| `bool`    | Boolean values (`True` or `False`) | `True, False` |\n",
    "| `datetime64` | Date and time values | `2025-03-31 12:00:00` |\n",
    "| `timedelta64` | Differences between dates/times | `5 days, 2 hours` |\n",
    "| `category` | Categorical data for optimization | `\"Red\"`, `\"Blue\"`, `\"Green\"` |\n",
    "\n",
    "#### **Example: Checking Data Types in a DataFrame**\n",
    "```python\n",
    "df.dtypes\n",
    "\n"
   ]
  },
  {
   "cell_type": "markdown",
   "id": "432668ba-eaa0-4878-b943-4f735a2d8dc7",
   "metadata": {},
   "source": [
    "## Filtering & Conditional Selection"
   ]
  },
  {
   "cell_type": "markdown",
   "id": "4d1ba3f0-decb-40bd-8cf0-696b12224345",
   "metadata": {},
   "source": [
    "### WHY ?\n",
    "* Extract relevant data based on conditions\n",
    "* Helps in targeted analysis\n",
    "* Enables better decision-making\n",
    "### To filter the data we can :\n",
    "* Use comparison operators: >, <, ==, !=, etc.\n",
    "* Use logical operators: & (AND), | (OR), ~ (NOT).\n",
    "* Apply multiple conditions to refine data selection"
   ]
  },
  {
   "cell_type": "code",
   "execution_count": null,
   "id": "94a2bdae-68c1-40d3-8bc7-6bed939d445a",
   "metadata": {},
   "outputs": [],
   "source": [
    "#Filtering the data using conditional operator\n",
    "df[df[\"Odometer (KM)\"] >100000] "
   ]
  },
  {
   "cell_type": "code",
   "execution_count": null,
   "id": "4c14470b-319b-45d2-84ad-7e544e206952",
   "metadata": {},
   "outputs": [],
   "source": [
    "#Filtering data using logical operator\n",
    "df[(df[\"Odometer (KM)\"] > 100000) & (df[\"Doors\"] == 4)]"
   ]
  },
  {
   "cell_type": "markdown",
   "id": "75b66e32-a913-4307-9a77-f533fafc0813",
   "metadata": {},
   "source": [
    "## Applying Functions to Data"
   ]
  },
  {
   "cell_type": "code",
   "execution_count": null,
   "id": "8088caad-3114-4ec4-b2fc-81ae9d40074a",
   "metadata": {},
   "outputs": [],
   "source": [
    "#Applying function to Data\n",
    "df[\"Doors\"].head()"
   ]
  },
  {
   "cell_type": "markdown",
   "id": "be025058-45ae-415e-a9ed-7f988f84fbb8",
   "metadata": {},
   "source": [
    "* 1] Using .apply() for Custom Transformations\n",
    "    - It allows user to apply diiferent function to dataFrames\n",
    "* 2]Using lambda function for quick transformation\n",
    "    - It is faster way to apply simpler function"
   ]
  },
  {
   "cell_type": "code",
   "execution_count": null,
   "id": "66d63ea2-f27d-4e41-8328-5c271e319f5d",
   "metadata": {},
   "outputs": [],
   "source": [
    "df[\"Doors\"] = df[\"Doors\"].apply(lambda x: x+1)\n",
    "df[\"Doors\"].head()"
   ]
  },
  {
   "cell_type": "code",
   "execution_count": null,
   "id": "9ee2e575-f248-414d-b102-0329728c91e7",
   "metadata": {},
   "outputs": [],
   "source": [
    "#sorting in ascending order\n",
    "df.sort_values(\"Doors\")"
   ]
  },
  {
   "cell_type": "markdown",
   "id": "f1768c18-5692-470f-815c-9f96c5fa113a",
   "metadata": {},
   "source": [
    "## Sorting & Ordering Data"
   ]
  },
  {
   "cell_type": "markdown",
   "id": "74f635e1-06b7-43f6-bc7a-51f1736121c7",
   "metadata": {},
   "source": [
    "### **Sorting Data in Pandas**  \n",
    "\n",
    "Sorting helps organize data for better analysis. Pandas provides:  \n",
    "\n",
    "1. Sorting by Column (`sort_values()`)**  \n",
    "- `by=\"column_name\"` → Specifies the column to sort.  \n",
    "- `ascending=True/False` → Controls order (default: `True`).  \n",
    "- `inplace=True/False` → Modifies DataFrame if `True`.  \n",
    "- Can sort multiple columns with different orders.  \n"
   ]
  },
  {
   "cell_type": "code",
   "execution_count": null,
   "id": "b93f7f1b-70a3-48bb-91d2-ce03c670e424",
   "metadata": {},
   "outputs": [],
   "source": [
    "#sorting in descending order\n",
    "df.sort_values(\"Doors\", ascending = False)"
   ]
  },
  {
   "cell_type": "markdown",
   "id": "70ea88c6-5d37-4fd4-8b19-d39faf233822",
   "metadata": {},
   "source": [
    "# What next?\n",
    "As you probably noticed by now, pandas is quite a large library with *many* features.\n",
    "Although we went through the most important features, there is still a lot to discover.\n",
    "Probably the best way to learn more is to get your hands dirty with some real-life data.\n",
    "It is also a good idea to go through pandas'\n",
    "excellent [documentation](http://pandas.pydata.org/pandas-docs/stable/index.html), in particular the [Cookbook](http://pandas.pydata.org/pandas-docs/stable/cookbook.html)."
   ]
  },
  {
   "cell_type": "markdown",
   "id": "5a245947-3130-4fb5-932e-38855457fcf5",
   "metadata": {},
   "source": [
    "## Thank You !! "
   ]
  },
  {
   "cell_type": "code",
   "execution_count": null,
   "id": "518c75e7-b06b-48d8-bbaa-58d2967e1ec4",
   "metadata": {},
   "outputs": [],
   "source": []
  }
 ],
 "metadata": {
  "kernelspec": {
   "display_name": "Python 3 (ipykernel)",
   "language": "python",
   "name": "python3"
  },
  "language_info": {
   "codemirror_mode": {
    "name": "ipython",
    "version": 3
   },
   "file_extension": ".py",
   "mimetype": "text/x-python",
   "name": "python",
   "nbconvert_exporter": "python",
   "pygments_lexer": "ipython3",
   "version": "3.12.7"
  }
 },
 "nbformat": 4,
 "nbformat_minor": 5
}
