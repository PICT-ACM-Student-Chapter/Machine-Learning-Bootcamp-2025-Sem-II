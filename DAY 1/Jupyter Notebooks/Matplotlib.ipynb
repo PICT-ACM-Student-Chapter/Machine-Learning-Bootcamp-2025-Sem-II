{
 "cells": [
  {
   "cell_type": "markdown",
   "metadata": {},
   "source": [
    "# Introduction to Matplotlib\n",
    "\n",
    "**What is Matplotlib?**  \n",
    "Matplotlib is a comprehensive library for creating static, animated, and interactive visualizations in Python. It allows you to create a wide range of plots and charts to visualize your data, which is essential for exploratory data analysis and communicating results.\n",
    "\n",
    "**Dataset Used:**  \n",
    "In this notebook, we use the **Iris dataset**, a classic dataset in data science that contains measurements for 150 iris flowers. This dataset is ideal for demonstrating various plotting techniques because it includes multiple numeric features and a categorical species column.\n"
   ]
  },
  {
   "cell_type": "markdown",
   "metadata": {},
   "source": [
    "## Importance of Data Visualization\n",
    "\n",
    "**Why Visualize Data?**  \n",
    "- **Understanding Patterns:** Visualizations help uncover patterns, trends, and relationships within data.\n",
    "- **Communication:** Graphs and plots make it easier to communicate findings to others.\n",
    "- **Data Quality:** Visualization can help identify outliers, missing data, or errors in data collection.\n",
    "\n",
    "**Common Plot Types in Matplotlib:**\n",
    "- **Scatter Plot:** Useful for examining relationships between two continuous variables.\n",
    "- **Line Plot:** Ideal for visualizing trends over a continuous interval (e.g., time-series data).\n",
    "- **Histogram:** Shows the distribution of a single numeric variable.\n",
    "- **Box Plot:** Helps to visualize the distribution, central value, and spread of the data, along with potential outliers.\n"
   ]
  },
  {
   "cell_type": "code",
   "execution_count": null,
   "metadata": {
    "vscode": {
     "languageId": "plaintext"
    }
   },
   "outputs": [],
   "source": [
    "import matplotlib.pyplot as plt\n",
    "import seaborn as sns\n",
    "\n",
    "# Load the Iris dataset using seaborn\n",
    "iris = sns.load_dataset('iris')\n",
    "\n",
    "# Scatter plot: Sepal Length vs Sepal Width\n",
    "plt.figure(figsize=(8,6))\n",
    "plt.scatter(iris['sepal_length'], iris['sepal_width'], c='blue', edgecolor='k', alpha=0.7)\n",
    "plt.title(\"Scatter Plot: Sepal Length vs Sepal Width\")\n",
    "plt.xlabel(\"Sepal Length (cm)\")\n",
    "plt.ylabel(\"Sepal Width (cm)\")\n",
    "plt.grid(True)\n",
    "plt.show()\n"
   ]
  },
  {
   "cell_type": "markdown",
   "metadata": {},
   "source": [
    "## Customizing Plots in Matplotlib\n",
    "\n",
    "**Why Customize?**  \n",
    "Customizations such as colors, markers, and labels make plots more informative and visually appealing. They help in:\n",
    "- **Differentiating Data Groups:** Different colors or markers can distinguish between categories.\n",
    "- **Enhancing Readability:** Clear labels and titles guide the audience through the visualized data.\n",
    "- **Emphasizing Trends:** Customizations can highlight important trends or outliers.\n",
    "\n",
    "**Key Customizations:**\n",
    "- **Colors & Markers:** Change the appearance of data points.\n",
    "- **Labels:** Add titles and axis labels to provide context.\n",
    "- **Legends:** Identify different data groups or series.\n"
   ]
  },
  {
   "cell_type": "code",
   "execution_count": null,
   "metadata": {
    "vscode": {
     "languageId": "plaintext"
    }
   },
   "outputs": [],
   "source": [
    "# Customized scatter plot with grouping by species\n",
    "plt.figure(figsize=(8,6))\n",
    "\n",
    "# Loop through each species and plot separately\n",
    "species = iris['species'].unique()\n",
    "colors = ['red', 'green', 'blue']\n",
    "for sp, color in zip(species, colors):\n",
    "    subset = iris[iris['species'] == sp]\n",
    "    plt.scatter(subset['sepal_length'], subset['sepal_width'],\n",
    "                color=color, label=sp, edgecolor='k', alpha=0.7)\n",
    "\n",
    "plt.title(\"Scatter Plot Grouped by Iris Species\")\n",
    "plt.xlabel(\"Sepal Length (cm)\")\n",
    "plt.ylabel(\"Sepal Width (cm)\")\n",
    "plt.legend(title=\"Species\")\n",
    "plt.grid(True)\n",
    "plt.show()\n"
   ]
  },
  {
   "cell_type": "markdown",
   "metadata": {},
   "source": [
    "## Histograms and Box Plots\n",
    "\n",
    "**Histograms:**  \n",
    "Histograms are useful for visualizing the distribution of a single numeric variable. They show the frequency of data points within specified ranges (bins).\n",
    "\n",
    "**Box Plots:**  \n",
    "Box plots summarize the distribution of a dataset by displaying the median, quartiles, and potential outliers. They are ideal for comparing distributions across different groups.\n",
    "\n",
    "Below is the code to create both a histogram and a box plot using the Iris dataset.\n"
   ]
  },
  {
   "cell_type": "code",
   "execution_count": null,
   "metadata": {
    "vscode": {
     "languageId": "plaintext"
    }
   },
   "outputs": [],
   "source": [
    "# Create a histogram for petal length\n",
    "plt.figure(figsize=(8, 4))\n",
    "plt.hist(iris['petal_length'], bins=15, color='skyblue', edgecolor='black')\n",
    "plt.title(\"Histogram of Petal Length\")\n",
    "plt.xlabel(\"Petal Length (cm)\")\n",
    "plt.ylabel(\"Frequency\")\n",
    "plt.grid(True)\n",
    "plt.show()\n",
    "\n",
    "# Create a box plot for sepal width grouped by species using tick_labels\n",
    "plt.figure(figsize=(8, 6))\n",
    "plt.boxplot(\n",
    "    [iris[iris['species'] == sp]['sepal_width'] for sp in species],\n",
    "    tick_labels=species,  # use the new parameter name\n",
    "    patch_artist=True,\n",
    "    boxprops=dict(facecolor='lightgreen', color='black'),\n",
    "    medianprops=dict(color='red')\n",
    ")\n",
    "plt.title(\"Box Plot of Sepal Width by Species\")\n",
    "plt.xlabel(\"Species\")\n",
    "plt.ylabel(\"Sepal Width (cm)\")\n",
    "plt.grid(True)\n",
    "plt.show()"
   ]
  },
  {
   "cell_type": "code",
   "execution_count": null,
   "metadata": {
    "vscode": {
     "languageId": "plaintext"
    }
   },
   "outputs": [],
   "source": [
    "# For demonstration, let's simulate a time-series trend from the Iris dataset.\n",
    "# We'll assume sepal length values over 50 \"time\" points (using the first 50 rows).\n",
    "time = range(50)\n",
    "sepal_length_trend = iris['sepal_length'][:50]\n",
    "\n",
    "plt.figure(figsize=(8, 6))\n",
    "plt.plot(time, sepal_length_trend, marker='o', linestyle='-', color='purple')\n",
    "plt.title(\"Line Plot: Trend of Sepal Length (First 50 Observations)\")\n",
    "plt.xlabel(\"Observation Index (Time)\")\n",
    "plt.ylabel(\"Sepal Length (cm)\")\n",
    "plt.grid(True)\n",
    "plt.show()\n"
   ]
  },
  {
   "cell_type": "markdown",
   "metadata": {},
   "source": [
    "## Conclusion\n",
    "\n",
    "In this notebook, we learned the basics of Matplotlib:\n",
    "- **Introduction to Matplotlib and its importance** in visualizing data.\n",
    "- **Basic plots:** Creating scatter plots to visualize relationships.\n",
    "- **Customization:** Using colors, markers, and labels to improve clarity.\n",
    "- **Advanced plots:** Creating histograms and box plots to understand data distributions.\n",
    "- **Line plots:** Simulating trend analysis using a line plot.\n",
    "\n",
    "This structured approach—combining theory with practical examples using the Iris dataset—provides a solid foundation for understanding how to visualize data with Matplotlib.\n"
   ]
  }
 ],
 "metadata": {
  "kernelspec": {
   "display_name": "Python 3 (ipykernel)",
   "language": "python",
   "name": "python3"
  },
  "language_info": {
   "codemirror_mode": {
    "name": "ipython",
    "version": 3
   },
   "file_extension": ".py",
   "mimetype": "text/x-python",
   "name": "python",
   "nbconvert_exporter": "python",
   "pygments_lexer": "ipython3",
   "version": "3.12.7"
  }
 },
 "nbformat": 4,
 "nbformat_minor": 4
}
